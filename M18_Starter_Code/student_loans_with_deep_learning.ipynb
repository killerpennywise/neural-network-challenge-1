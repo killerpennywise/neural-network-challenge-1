{
  "cells": [
    {
      "cell_type": "markdown",
      "metadata": {
        "id": "T7ZNhGcW6q6r"
      },
      "source": [
        "# Student Loan Risk with Deep Learning"
      ]
    },
    {
      "cell_type": "code",
      "execution_count": 21,
      "metadata": {
        "id": "0otrXpJc6q6u"
      },
      "outputs": [],
      "source": [
        "# Imports\n",
        "import pandas as pd\n",
        "import tensorflow as tf\n",
        "from tensorflow.keras.layers import Dense\n",
        "from tensorflow.keras.models import Sequential\n",
        "from sklearn.model_selection import train_test_split\n",
        "from sklearn.preprocessing import StandardScaler\n",
        "from sklearn.metrics import classification_report\n",
        "from pathlib import Path"
      ]
    },
    {
      "cell_type": "markdown",
      "metadata": {
        "id": "OpV4Y-3Z6q6w"
      },
      "source": [
        "---\n",
        "\n",
        "## Prepare the data to be used on a neural network model"
      ]
    },
    {
      "cell_type": "markdown",
      "metadata": {
        "id": "TUuSzp2l6q6w"
      },
      "source": [
        "### Step 1: Read the `student-loans.csv` file into a Pandas DataFrame. Review the DataFrame, looking for columns that could eventually define your features and target variables.   "
      ]
    },
    {
      "cell_type": "code",
      "execution_count": 22,
      "metadata": {
        "colab": {
          "base_uri": "https://localhost:8080/",
          "height": 226
        },
        "id": "G65km1KD6q6x",
        "outputId": "93d12d8d-c415-4017-8452-5b4966e4dde5"
      },
      "outputs": [
        {
          "data": {
            "text/html": [
              "<div>\n",
              "<style scoped>\n",
              "    .dataframe tbody tr th:only-of-type {\n",
              "        vertical-align: middle;\n",
              "    }\n",
              "\n",
              "    .dataframe tbody tr th {\n",
              "        vertical-align: top;\n",
              "    }\n",
              "\n",
              "    .dataframe thead th {\n",
              "        text-align: right;\n",
              "    }\n",
              "</style>\n",
              "<table border=\"1\" class=\"dataframe\">\n",
              "  <thead>\n",
              "    <tr style=\"text-align: right;\">\n",
              "      <th></th>\n",
              "      <th>payment_history</th>\n",
              "      <th>location_parameter</th>\n",
              "      <th>stem_degree_score</th>\n",
              "      <th>gpa_ranking</th>\n",
              "      <th>alumni_success</th>\n",
              "      <th>study_major_code</th>\n",
              "      <th>time_to_completion</th>\n",
              "      <th>finance_workshop_score</th>\n",
              "      <th>cohort_ranking</th>\n",
              "      <th>total_loan_score</th>\n",
              "      <th>financial_aid_score</th>\n",
              "      <th>credit_ranking</th>\n",
              "    </tr>\n",
              "  </thead>\n",
              "  <tbody>\n",
              "    <tr>\n",
              "      <th>0</th>\n",
              "      <td>7.4</td>\n",
              "      <td>0.70</td>\n",
              "      <td>0.00</td>\n",
              "      <td>1.9</td>\n",
              "      <td>0.076</td>\n",
              "      <td>11.0</td>\n",
              "      <td>34.0</td>\n",
              "      <td>0.9978</td>\n",
              "      <td>3.51</td>\n",
              "      <td>0.56</td>\n",
              "      <td>9.4</td>\n",
              "      <td>0</td>\n",
              "    </tr>\n",
              "    <tr>\n",
              "      <th>1</th>\n",
              "      <td>7.8</td>\n",
              "      <td>0.88</td>\n",
              "      <td>0.00</td>\n",
              "      <td>2.6</td>\n",
              "      <td>0.098</td>\n",
              "      <td>25.0</td>\n",
              "      <td>67.0</td>\n",
              "      <td>0.9968</td>\n",
              "      <td>3.20</td>\n",
              "      <td>0.68</td>\n",
              "      <td>9.8</td>\n",
              "      <td>0</td>\n",
              "    </tr>\n",
              "    <tr>\n",
              "      <th>2</th>\n",
              "      <td>7.8</td>\n",
              "      <td>0.76</td>\n",
              "      <td>0.04</td>\n",
              "      <td>2.3</td>\n",
              "      <td>0.092</td>\n",
              "      <td>15.0</td>\n",
              "      <td>54.0</td>\n",
              "      <td>0.9970</td>\n",
              "      <td>3.26</td>\n",
              "      <td>0.65</td>\n",
              "      <td>9.8</td>\n",
              "      <td>0</td>\n",
              "    </tr>\n",
              "    <tr>\n",
              "      <th>3</th>\n",
              "      <td>11.2</td>\n",
              "      <td>0.28</td>\n",
              "      <td>0.56</td>\n",
              "      <td>1.9</td>\n",
              "      <td>0.075</td>\n",
              "      <td>17.0</td>\n",
              "      <td>60.0</td>\n",
              "      <td>0.9980</td>\n",
              "      <td>3.16</td>\n",
              "      <td>0.58</td>\n",
              "      <td>9.8</td>\n",
              "      <td>1</td>\n",
              "    </tr>\n",
              "    <tr>\n",
              "      <th>4</th>\n",
              "      <td>7.4</td>\n",
              "      <td>0.70</td>\n",
              "      <td>0.00</td>\n",
              "      <td>1.9</td>\n",
              "      <td>0.076</td>\n",
              "      <td>11.0</td>\n",
              "      <td>34.0</td>\n",
              "      <td>0.9978</td>\n",
              "      <td>3.51</td>\n",
              "      <td>0.56</td>\n",
              "      <td>9.4</td>\n",
              "      <td>0</td>\n",
              "    </tr>\n",
              "  </tbody>\n",
              "</table>\n",
              "</div>"
            ],
            "text/plain": [
              "   payment_history  location_parameter  stem_degree_score  gpa_ranking  \\\n",
              "0              7.4                0.70               0.00          1.9   \n",
              "1              7.8                0.88               0.00          2.6   \n",
              "2              7.8                0.76               0.04          2.3   \n",
              "3             11.2                0.28               0.56          1.9   \n",
              "4              7.4                0.70               0.00          1.9   \n",
              "\n",
              "   alumni_success  study_major_code  time_to_completion  \\\n",
              "0           0.076              11.0                34.0   \n",
              "1           0.098              25.0                67.0   \n",
              "2           0.092              15.0                54.0   \n",
              "3           0.075              17.0                60.0   \n",
              "4           0.076              11.0                34.0   \n",
              "\n",
              "   finance_workshop_score  cohort_ranking  total_loan_score  \\\n",
              "0                  0.9978            3.51              0.56   \n",
              "1                  0.9968            3.20              0.68   \n",
              "2                  0.9970            3.26              0.65   \n",
              "3                  0.9980            3.16              0.58   \n",
              "4                  0.9978            3.51              0.56   \n",
              "\n",
              "   financial_aid_score  credit_ranking  \n",
              "0                  9.4               0  \n",
              "1                  9.8               0  \n",
              "2                  9.8               0  \n",
              "3                  9.8               1  \n",
              "4                  9.4               0  "
            ]
          },
          "execution_count": 22,
          "metadata": {},
          "output_type": "execute_result"
        }
      ],
      "source": [
        "# Read the csv into a Pandas DataFrame\n",
        "file_path = \"https://static.bc-edx.com/ai/ail-v-1-0/m18/lms/datasets/student-loans.csv\"\n",
        "loans_df = pd.read_csv(file_path)\n",
        "\n",
        "# Review the DataFrame\n",
        "loans_df.head()"
      ]
    },
    {
      "cell_type": "code",
      "execution_count": 23,
      "metadata": {
        "colab": {
          "base_uri": "https://localhost:8080/"
        },
        "id": "K8ZYB8wx6q6x",
        "outputId": "b509fc34-4488-406e-e451-2069fec37371"
      },
      "outputs": [
        {
          "data": {
            "text/plain": [
              "payment_history           float64\n",
              "location_parameter        float64\n",
              "stem_degree_score         float64\n",
              "gpa_ranking               float64\n",
              "alumni_success            float64\n",
              "study_major_code          float64\n",
              "time_to_completion        float64\n",
              "finance_workshop_score    float64\n",
              "cohort_ranking            float64\n",
              "total_loan_score          float64\n",
              "financial_aid_score       float64\n",
              "credit_ranking              int64\n",
              "dtype: object"
            ]
          },
          "execution_count": 23,
          "metadata": {},
          "output_type": "execute_result"
        }
      ],
      "source": [
        "# Review the data types associated with the columns\n",
        "loans_df.dtypes"
      ]
    },
    {
      "cell_type": "code",
      "execution_count": 24,
      "metadata": {
        "colab": {
          "base_uri": "https://localhost:8080/"
        },
        "id": "9P8aX-dW75JO",
        "outputId": "63251fa8-5ac1-4112-c2f7-bc5d97ea8491"
      },
      "outputs": [
        {
          "data": {
            "text/plain": [
              "credit_ranking\n",
              "1    855\n",
              "0    744\n",
              "Name: count, dtype: int64"
            ]
          },
          "execution_count": 24,
          "metadata": {},
          "output_type": "execute_result"
        }
      ],
      "source": [
        "# Check the credit_ranking value counts\n",
        "loans_df[\"credit_ranking\"].value_counts()"
      ]
    },
    {
      "cell_type": "markdown",
      "metadata": {
        "id": "R6vbZeDH6q6y"
      },
      "source": [
        "### Step 2: Using the preprocessed data, create the features (`X`) and target (`y`) datasets. The target dataset should be defined by the preprocessed DataFrame column “credit_ranking”. The remaining columns should define the features dataset."
      ]
    },
    {
      "cell_type": "code",
      "execution_count": 25,
      "metadata": {
        "colab": {
          "base_uri": "https://localhost:8080/"
        },
        "id": "Q5eVAP5M6q6y",
        "outputId": "89728bbf-6930-4573-a126-9f1b66ed8859"
      },
      "outputs": [
        {
          "data": {
            "text/plain": [
              "0    0\n",
              "1    0\n",
              "2    0\n",
              "3    1\n",
              "4    0\n",
              "Name: credit_ranking, dtype: int64"
            ]
          },
          "execution_count": 25,
          "metadata": {},
          "output_type": "execute_result"
        }
      ],
      "source": [
        "# Define the target set y using the credit_ranking column\n",
        "y = loans_df['credit_ranking']\n",
        "\n",
        "# Display a sample of y\n",
        "y.head()"
      ]
    },
    {
      "cell_type": "code",
      "execution_count": 26,
      "metadata": {
        "colab": {
          "base_uri": "https://localhost:8080/",
          "height": 226
        },
        "id": "IIkrD2Sn6q6z",
        "outputId": "ce07c4a3-fb81-4657-d11e-ec85ae8554c9"
      },
      "outputs": [
        {
          "data": {
            "text/html": [
              "<div>\n",
              "<style scoped>\n",
              "    .dataframe tbody tr th:only-of-type {\n",
              "        vertical-align: middle;\n",
              "    }\n",
              "\n",
              "    .dataframe tbody tr th {\n",
              "        vertical-align: top;\n",
              "    }\n",
              "\n",
              "    .dataframe thead th {\n",
              "        text-align: right;\n",
              "    }\n",
              "</style>\n",
              "<table border=\"1\" class=\"dataframe\">\n",
              "  <thead>\n",
              "    <tr style=\"text-align: right;\">\n",
              "      <th></th>\n",
              "      <th>payment_history</th>\n",
              "      <th>location_parameter</th>\n",
              "      <th>stem_degree_score</th>\n",
              "      <th>gpa_ranking</th>\n",
              "      <th>alumni_success</th>\n",
              "      <th>study_major_code</th>\n",
              "      <th>time_to_completion</th>\n",
              "      <th>finance_workshop_score</th>\n",
              "      <th>cohort_ranking</th>\n",
              "      <th>total_loan_score</th>\n",
              "      <th>financial_aid_score</th>\n",
              "    </tr>\n",
              "  </thead>\n",
              "  <tbody>\n",
              "    <tr>\n",
              "      <th>0</th>\n",
              "      <td>7.4</td>\n",
              "      <td>0.700</td>\n",
              "      <td>0.00</td>\n",
              "      <td>1.9</td>\n",
              "      <td>0.076</td>\n",
              "      <td>11.0</td>\n",
              "      <td>34.0</td>\n",
              "      <td>0.99780</td>\n",
              "      <td>3.51</td>\n",
              "      <td>0.56</td>\n",
              "      <td>9.4</td>\n",
              "    </tr>\n",
              "    <tr>\n",
              "      <th>1</th>\n",
              "      <td>7.8</td>\n",
              "      <td>0.880</td>\n",
              "      <td>0.00</td>\n",
              "      <td>2.6</td>\n",
              "      <td>0.098</td>\n",
              "      <td>25.0</td>\n",
              "      <td>67.0</td>\n",
              "      <td>0.99680</td>\n",
              "      <td>3.20</td>\n",
              "      <td>0.68</td>\n",
              "      <td>9.8</td>\n",
              "    </tr>\n",
              "    <tr>\n",
              "      <th>2</th>\n",
              "      <td>7.8</td>\n",
              "      <td>0.760</td>\n",
              "      <td>0.04</td>\n",
              "      <td>2.3</td>\n",
              "      <td>0.092</td>\n",
              "      <td>15.0</td>\n",
              "      <td>54.0</td>\n",
              "      <td>0.99700</td>\n",
              "      <td>3.26</td>\n",
              "      <td>0.65</td>\n",
              "      <td>9.8</td>\n",
              "    </tr>\n",
              "    <tr>\n",
              "      <th>3</th>\n",
              "      <td>11.2</td>\n",
              "      <td>0.280</td>\n",
              "      <td>0.56</td>\n",
              "      <td>1.9</td>\n",
              "      <td>0.075</td>\n",
              "      <td>17.0</td>\n",
              "      <td>60.0</td>\n",
              "      <td>0.99800</td>\n",
              "      <td>3.16</td>\n",
              "      <td>0.58</td>\n",
              "      <td>9.8</td>\n",
              "    </tr>\n",
              "    <tr>\n",
              "      <th>4</th>\n",
              "      <td>7.4</td>\n",
              "      <td>0.700</td>\n",
              "      <td>0.00</td>\n",
              "      <td>1.9</td>\n",
              "      <td>0.076</td>\n",
              "      <td>11.0</td>\n",
              "      <td>34.0</td>\n",
              "      <td>0.99780</td>\n",
              "      <td>3.51</td>\n",
              "      <td>0.56</td>\n",
              "      <td>9.4</td>\n",
              "    </tr>\n",
              "    <tr>\n",
              "      <th>...</th>\n",
              "      <td>...</td>\n",
              "      <td>...</td>\n",
              "      <td>...</td>\n",
              "      <td>...</td>\n",
              "      <td>...</td>\n",
              "      <td>...</td>\n",
              "      <td>...</td>\n",
              "      <td>...</td>\n",
              "      <td>...</td>\n",
              "      <td>...</td>\n",
              "      <td>...</td>\n",
              "    </tr>\n",
              "    <tr>\n",
              "      <th>1594</th>\n",
              "      <td>6.2</td>\n",
              "      <td>0.600</td>\n",
              "      <td>0.08</td>\n",
              "      <td>2.0</td>\n",
              "      <td>0.090</td>\n",
              "      <td>32.0</td>\n",
              "      <td>44.0</td>\n",
              "      <td>0.99490</td>\n",
              "      <td>3.45</td>\n",
              "      <td>0.58</td>\n",
              "      <td>10.5</td>\n",
              "    </tr>\n",
              "    <tr>\n",
              "      <th>1595</th>\n",
              "      <td>5.9</td>\n",
              "      <td>0.550</td>\n",
              "      <td>0.10</td>\n",
              "      <td>2.2</td>\n",
              "      <td>0.062</td>\n",
              "      <td>39.0</td>\n",
              "      <td>51.0</td>\n",
              "      <td>0.99512</td>\n",
              "      <td>3.52</td>\n",
              "      <td>0.76</td>\n",
              "      <td>11.2</td>\n",
              "    </tr>\n",
              "    <tr>\n",
              "      <th>1596</th>\n",
              "      <td>6.3</td>\n",
              "      <td>0.510</td>\n",
              "      <td>0.13</td>\n",
              "      <td>2.3</td>\n",
              "      <td>0.076</td>\n",
              "      <td>29.0</td>\n",
              "      <td>40.0</td>\n",
              "      <td>0.99574</td>\n",
              "      <td>3.42</td>\n",
              "      <td>0.75</td>\n",
              "      <td>11.0</td>\n",
              "    </tr>\n",
              "    <tr>\n",
              "      <th>1597</th>\n",
              "      <td>5.9</td>\n",
              "      <td>0.645</td>\n",
              "      <td>0.12</td>\n",
              "      <td>2.0</td>\n",
              "      <td>0.075</td>\n",
              "      <td>32.0</td>\n",
              "      <td>44.0</td>\n",
              "      <td>0.99547</td>\n",
              "      <td>3.57</td>\n",
              "      <td>0.71</td>\n",
              "      <td>10.2</td>\n",
              "    </tr>\n",
              "    <tr>\n",
              "      <th>1598</th>\n",
              "      <td>6.0</td>\n",
              "      <td>0.310</td>\n",
              "      <td>0.47</td>\n",
              "      <td>3.6</td>\n",
              "      <td>0.067</td>\n",
              "      <td>18.0</td>\n",
              "      <td>42.0</td>\n",
              "      <td>0.99549</td>\n",
              "      <td>3.39</td>\n",
              "      <td>0.66</td>\n",
              "      <td>11.0</td>\n",
              "    </tr>\n",
              "  </tbody>\n",
              "</table>\n",
              "<p>1599 rows × 11 columns</p>\n",
              "</div>"
            ],
            "text/plain": [
              "      payment_history  location_parameter  stem_degree_score  gpa_ranking  \\\n",
              "0                 7.4               0.700               0.00          1.9   \n",
              "1                 7.8               0.880               0.00          2.6   \n",
              "2                 7.8               0.760               0.04          2.3   \n",
              "3                11.2               0.280               0.56          1.9   \n",
              "4                 7.4               0.700               0.00          1.9   \n",
              "...               ...                 ...                ...          ...   \n",
              "1594              6.2               0.600               0.08          2.0   \n",
              "1595              5.9               0.550               0.10          2.2   \n",
              "1596              6.3               0.510               0.13          2.3   \n",
              "1597              5.9               0.645               0.12          2.0   \n",
              "1598              6.0               0.310               0.47          3.6   \n",
              "\n",
              "      alumni_success  study_major_code  time_to_completion  \\\n",
              "0              0.076              11.0                34.0   \n",
              "1              0.098              25.0                67.0   \n",
              "2              0.092              15.0                54.0   \n",
              "3              0.075              17.0                60.0   \n",
              "4              0.076              11.0                34.0   \n",
              "...              ...               ...                 ...   \n",
              "1594           0.090              32.0                44.0   \n",
              "1595           0.062              39.0                51.0   \n",
              "1596           0.076              29.0                40.0   \n",
              "1597           0.075              32.0                44.0   \n",
              "1598           0.067              18.0                42.0   \n",
              "\n",
              "      finance_workshop_score  cohort_ranking  total_loan_score  \\\n",
              "0                    0.99780            3.51              0.56   \n",
              "1                    0.99680            3.20              0.68   \n",
              "2                    0.99700            3.26              0.65   \n",
              "3                    0.99800            3.16              0.58   \n",
              "4                    0.99780            3.51              0.56   \n",
              "...                      ...             ...               ...   \n",
              "1594                 0.99490            3.45              0.58   \n",
              "1595                 0.99512            3.52              0.76   \n",
              "1596                 0.99574            3.42              0.75   \n",
              "1597                 0.99547            3.57              0.71   \n",
              "1598                 0.99549            3.39              0.66   \n",
              "\n",
              "      financial_aid_score  \n",
              "0                     9.4  \n",
              "1                     9.8  \n",
              "2                     9.8  \n",
              "3                     9.8  \n",
              "4                     9.4  \n",
              "...                   ...  \n",
              "1594                 10.5  \n",
              "1595                 11.2  \n",
              "1596                 11.0  \n",
              "1597                 10.2  \n",
              "1598                 11.0  \n",
              "\n",
              "[1599 rows x 11 columns]"
            ]
          },
          "execution_count": 26,
          "metadata": {},
          "output_type": "execute_result"
        }
      ],
      "source": [
        "# Define features set X by selecting all columns but credit_ranking\n",
        "X = loans_df.drop(columns=['credit_ranking'])\n",
        "\n",
        "# Review the features DataFrame\n",
        "X"
      ]
    },
    {
      "cell_type": "markdown",
      "metadata": {
        "id": "QmM9c-tj6q6z"
      },
      "source": [
        "### Step 3: Split the features and target sets into training and testing datasets.\n"
      ]
    },
    {
      "cell_type": "code",
      "execution_count": 27,
      "metadata": {
        "id": "OD7xwU_96q6z"
      },
      "outputs": [],
      "source": [
        "# Split the preprocessed data into a training and testing dataset\n",
        "# Assign the function a random_state equal to 1\n",
        "X_train, X_test, y_train, y_test = train_test_split(X,y,random_state=1)"
      ]
    },
    {
      "cell_type": "markdown",
      "metadata": {
        "id": "G9i6DHY06q6z"
      },
      "source": [
        "### Step 4: Use scikit-learn's `StandardScaler` to scale the features data."
      ]
    },
    {
      "cell_type": "code",
      "execution_count": 28,
      "metadata": {
        "id": "BzD3z20m6q6z"
      },
      "outputs": [
        {
          "data": {
            "text/plain": [
              "array([[ 0.26985713, -0.67852173,  1.87373569, ...,  1.43159743,\n",
              "         0.01130905,  0.05358797],\n",
              "       [ 0.21400374,  0.54947458,  0.05955639, ..., -0.34793415,\n",
              "        -0.16632694, -0.22597102],\n",
              "       [ 1.16351141, -1.06924782,  1.57137247, ..., -0.79281704,\n",
              "         0.24815703,  0.7990786 ],\n",
              "       ...,\n",
              "       [-0.62379715, -0.95761179,  0.96664604, ...,  0.54183164,\n",
              "         1.13633698,  0.51951962],\n",
              "       [-1.51745143,  0.46574755, -1.35147195, ...,  1.68581622,\n",
              "        -0.81765891, -0.50553001],\n",
              "       [ 1.94545891, -1.12506584,  1.11782765, ..., -0.09371535,\n",
              "         0.60342901,  0.23996063]])"
            ]
          },
          "execution_count": 28,
          "metadata": {},
          "output_type": "execute_result"
        }
      ],
      "source": [
        "# Create a StandardScaler instance\n",
        "scaler = StandardScaler()\n",
        "\n",
        "# Fit the scaler to the features training dataset\n",
        "scaler.fit(X_train)\n",
        "X_train_scaled = scaler.transform(X_train)\n",
        "# Fit the scaler to the features training dataset\n",
        "X_test_scaled = scaler.transform(X_test)\n",
        "X_test_scaled"
      ]
    },
    {
      "cell_type": "markdown",
      "metadata": {
        "id": "CZzVDjba6q6z"
      },
      "source": [
        "---\n",
        "\n",
        "## Compile and Evaluate a Model Using a Neural Network"
      ]
    },
    {
      "cell_type": "markdown",
      "metadata": {
        "id": "m-pSux4Q6q60"
      },
      "source": [
        "### Step 1: Create a deep neural network by assigning the number of input features, the number of layers, and the number of neurons on each layer using Tensorflow’s Keras.\n",
        "\n",
        "> **Hint** You can start with a two-layer deep neural network model that uses the `relu` activation function for both layers.\n"
      ]
    },
    {
      "cell_type": "code",
      "execution_count": 29,
      "metadata": {
        "colab": {
          "base_uri": "https://localhost:8080/"
        },
        "id": "t5C94FCd6q60",
        "outputId": "cbf05783-2f56-4745-cd33-649a6152e510"
      },
      "outputs": [
        {
          "data": {
            "text/plain": [
              "11"
            ]
          },
          "execution_count": 29,
          "metadata": {},
          "output_type": "execute_result"
        }
      ],
      "source": [
        "# Define the the number of inputs (features) to the model\n",
        "input_layer = len(X.columns)\n",
        "\n",
        "# Review the number of features\n",
        "input_layer"
      ]
    },
    {
      "cell_type": "code",
      "execution_count": 30,
      "metadata": {
        "id": "c_KXDLkF6q60"
      },
      "outputs": [],
      "source": [
        "# Define the number of hidden nodes for the first hidden layer\n",
        "first_hidden_nodes=5\n",
        "\n",
        "# Define the number of hidden nodes for the second hidden layer\n",
        "second_hidden_nodes=3\n",
        "\n",
        "# Define the number of neurons in the output layer\n",
        "output_nodes=1"
      ]
    },
    {
      "cell_type": "code",
      "execution_count": 31,
      "metadata": {
        "id": "63UdFncw6q60"
      },
      "outputs": [],
      "source": [
        "# Create the Sequential model instance\n",
        "nn_model = tf.keras.models.Sequential()\n",
        "\n",
        "# Add the first hidden layer\n",
        "nn_model.add(tf.keras.layers.Dense(units=first_hidden_nodes,activation='relu',input_dim=input_layer))\n",
        "\n",
        "# Add the second hidden layer\n",
        "nn_model.add(tf.keras.layers.Dense(units=second_hidden_nodes,activation='relu'))\n",
        "\n",
        "# Add the output layer to the model specifying the number of output neurons and activation function\n",
        "nn_model.add(tf.keras.layers.Dense(units=output_nodes,activation='sigmoid'))"
      ]
    },
    {
      "cell_type": "code",
      "execution_count": 32,
      "metadata": {
        "colab": {
          "base_uri": "https://localhost:8080/"
        },
        "id": "-Beoh4f_6q61",
        "outputId": "2e50f810-086b-4d89-bf7d-98afbe0d649d"
      },
      "outputs": [
        {
          "name": "stdout",
          "output_type": "stream",
          "text": [
            "Model: \"sequential_4\"\n",
            "_________________________________________________________________\n",
            " Layer (type)                Output Shape              Param #   \n",
            "=================================================================\n",
            " dense_7 (Dense)             (None, 5)                 60        \n",
            "                                                                 \n",
            " dense_8 (Dense)             (None, 3)                 18        \n",
            "                                                                 \n",
            " dense_9 (Dense)             (None, 1)                 4         \n",
            "                                                                 \n",
            "=================================================================\n",
            "Total params: 82 (328.00 Byte)\n",
            "Trainable params: 82 (328.00 Byte)\n",
            "Non-trainable params: 0 (0.00 Byte)\n",
            "_________________________________________________________________\n"
          ]
        }
      ],
      "source": [
        "# Display the Sequential model summary\n",
        "nn_model.summary()"
      ]
    },
    {
      "cell_type": "markdown",
      "metadata": {
        "id": "nRqWGIRo6q61"
      },
      "source": [
        "### Step 2: Compile and fit the model using the `binary_crossentropy` loss function, the `adam` optimizer, and the `accuracy` evaluation metric.\n"
      ]
    },
    {
      "cell_type": "code",
      "execution_count": 41,
      "metadata": {
        "id": "E-hZaeSn6q61"
      },
      "outputs": [],
      "source": [
        "# Compile the Sequential model\n",
        "nn_model.compile(loss='binary_crossentropy',optimizer='adam',metrics=['accuracy'])"
      ]
    },
    {
      "cell_type": "code",
      "execution_count": 43,
      "metadata": {
        "colab": {
          "base_uri": "https://localhost:8080/"
        },
        "id": "x25e8Idc6q61",
        "outputId": "e95946ba-23da-47a3-a1c1-5e9a2a484a47"
      },
      "outputs": [
        {
          "name": "stdout",
          "output_type": "stream",
          "text": [
            "Epoch 1/100\n",
            "38/38 [==============================] - 0s 3ms/step - loss: 0.5056 - accuracy: 0.7548\n",
            "Epoch 2/100\n",
            "38/38 [==============================] - 0s 3ms/step - loss: 0.5052 - accuracy: 0.7565\n",
            "Epoch 3/100\n",
            "38/38 [==============================] - 0s 3ms/step - loss: 0.5047 - accuracy: 0.7573\n",
            "Epoch 4/100\n",
            "38/38 [==============================] - 0s 3ms/step - loss: 0.5043 - accuracy: 0.7598\n",
            "Epoch 5/100\n",
            "38/38 [==============================] - 0s 4ms/step - loss: 0.5038 - accuracy: 0.7556\n",
            "Epoch 6/100\n",
            "38/38 [==============================] - 0s 3ms/step - loss: 0.5031 - accuracy: 0.7573\n",
            "Epoch 7/100\n",
            "38/38 [==============================] - 0s 3ms/step - loss: 0.5025 - accuracy: 0.7590\n",
            "Epoch 8/100\n",
            "38/38 [==============================] - 0s 3ms/step - loss: 0.5019 - accuracy: 0.7581\n",
            "Epoch 9/100\n",
            "38/38 [==============================] - 0s 3ms/step - loss: 0.5015 - accuracy: 0.7606\n",
            "Epoch 10/100\n",
            "38/38 [==============================] - 0s 4ms/step - loss: 0.5010 - accuracy: 0.7598\n",
            "Epoch 11/100\n",
            "38/38 [==============================] - 0s 4ms/step - loss: 0.5008 - accuracy: 0.7631\n",
            "Epoch 12/100\n",
            "38/38 [==============================] - 0s 3ms/step - loss: 0.5004 - accuracy: 0.7631\n",
            "Epoch 13/100\n",
            "38/38 [==============================] - 0s 3ms/step - loss: 0.4998 - accuracy: 0.7623\n",
            "Epoch 14/100\n",
            "38/38 [==============================] - 0s 4ms/step - loss: 0.4996 - accuracy: 0.7606\n",
            "Epoch 15/100\n",
            "38/38 [==============================] - 0s 3ms/step - loss: 0.4992 - accuracy: 0.7615\n",
            "Epoch 16/100\n",
            "38/38 [==============================] - 0s 4ms/step - loss: 0.4985 - accuracy: 0.7615\n",
            "Epoch 17/100\n",
            "38/38 [==============================] - 0s 3ms/step - loss: 0.4982 - accuracy: 0.7640\n",
            "Epoch 18/100\n",
            "38/38 [==============================] - 0s 3ms/step - loss: 0.4976 - accuracy: 0.7631\n",
            "Epoch 19/100\n",
            "38/38 [==============================] - 0s 3ms/step - loss: 0.4976 - accuracy: 0.7615\n",
            "Epoch 20/100\n",
            "38/38 [==============================] - 0s 3ms/step - loss: 0.4969 - accuracy: 0.7615\n",
            "Epoch 21/100\n",
            "38/38 [==============================] - 0s 3ms/step - loss: 0.4966 - accuracy: 0.7623\n",
            "Epoch 22/100\n",
            "38/38 [==============================] - 0s 3ms/step - loss: 0.4961 - accuracy: 0.7631\n",
            "Epoch 23/100\n",
            "38/38 [==============================] - 0s 3ms/step - loss: 0.4961 - accuracy: 0.7623\n",
            "Epoch 24/100\n",
            "38/38 [==============================] - 0s 3ms/step - loss: 0.4957 - accuracy: 0.7640\n",
            "Epoch 25/100\n",
            "38/38 [==============================] - 0s 3ms/step - loss: 0.4952 - accuracy: 0.7631\n",
            "Epoch 26/100\n",
            "38/38 [==============================] - 0s 3ms/step - loss: 0.4952 - accuracy: 0.7665\n",
            "Epoch 27/100\n",
            "38/38 [==============================] - 0s 4ms/step - loss: 0.4948 - accuracy: 0.7656\n",
            "Epoch 28/100\n",
            "38/38 [==============================] - 0s 3ms/step - loss: 0.4940 - accuracy: 0.7648\n",
            "Epoch 29/100\n",
            "38/38 [==============================] - 0s 3ms/step - loss: 0.4939 - accuracy: 0.7656\n",
            "Epoch 30/100\n",
            "38/38 [==============================] - 0s 3ms/step - loss: 0.4937 - accuracy: 0.7648\n",
            "Epoch 31/100\n",
            "38/38 [==============================] - 0s 3ms/step - loss: 0.4935 - accuracy: 0.7673\n",
            "Epoch 32/100\n",
            "38/38 [==============================] - 0s 3ms/step - loss: 0.4932 - accuracy: 0.7698\n",
            "Epoch 33/100\n",
            "38/38 [==============================] - 0s 3ms/step - loss: 0.4927 - accuracy: 0.7706\n",
            "Epoch 34/100\n",
            "38/38 [==============================] - 0s 3ms/step - loss: 0.4928 - accuracy: 0.7673\n",
            "Epoch 35/100\n",
            "38/38 [==============================] - 0s 3ms/step - loss: 0.4921 - accuracy: 0.7673\n",
            "Epoch 36/100\n",
            "38/38 [==============================] - 0s 3ms/step - loss: 0.4918 - accuracy: 0.7690\n",
            "Epoch 37/100\n",
            "38/38 [==============================] - 0s 3ms/step - loss: 0.4916 - accuracy: 0.7706\n",
            "Epoch 38/100\n",
            "38/38 [==============================] - 0s 3ms/step - loss: 0.4912 - accuracy: 0.7715\n",
            "Epoch 39/100\n",
            "38/38 [==============================] - 0s 3ms/step - loss: 0.4913 - accuracy: 0.7715\n",
            "Epoch 40/100\n",
            "38/38 [==============================] - 0s 3ms/step - loss: 0.4909 - accuracy: 0.7698\n",
            "Epoch 41/100\n",
            "38/38 [==============================] - 0s 5ms/step - loss: 0.4906 - accuracy: 0.7690\n",
            "Epoch 42/100\n",
            "38/38 [==============================] - 0s 3ms/step - loss: 0.4902 - accuracy: 0.7698\n",
            "Epoch 43/100\n",
            "38/38 [==============================] - 0s 3ms/step - loss: 0.4899 - accuracy: 0.7715\n",
            "Epoch 44/100\n",
            "38/38 [==============================] - 0s 4ms/step - loss: 0.4895 - accuracy: 0.7690\n",
            "Epoch 45/100\n",
            "38/38 [==============================] - 0s 3ms/step - loss: 0.4902 - accuracy: 0.7706\n",
            "Epoch 46/100\n",
            "38/38 [==============================] - 0s 4ms/step - loss: 0.4892 - accuracy: 0.7698\n",
            "Epoch 47/100\n",
            "38/38 [==============================] - 0s 4ms/step - loss: 0.4892 - accuracy: 0.7681\n",
            "Epoch 48/100\n",
            "38/38 [==============================] - 0s 4ms/step - loss: 0.4884 - accuracy: 0.7698\n",
            "Epoch 49/100\n",
            "38/38 [==============================] - 0s 4ms/step - loss: 0.4882 - accuracy: 0.7690\n",
            "Epoch 50/100\n",
            "38/38 [==============================] - 0s 3ms/step - loss: 0.4873 - accuracy: 0.7681\n",
            "Epoch 51/100\n",
            "38/38 [==============================] - 0s 3ms/step - loss: 0.4875 - accuracy: 0.7673\n",
            "Epoch 52/100\n",
            "38/38 [==============================] - 0s 3ms/step - loss: 0.4868 - accuracy: 0.7698\n",
            "Epoch 53/100\n",
            "38/38 [==============================] - 0s 4ms/step - loss: 0.4863 - accuracy: 0.7698\n",
            "Epoch 54/100\n",
            "38/38 [==============================] - 0s 3ms/step - loss: 0.4864 - accuracy: 0.7681\n",
            "Epoch 55/100\n",
            "38/38 [==============================] - 0s 3ms/step - loss: 0.4857 - accuracy: 0.7673\n",
            "Epoch 56/100\n",
            "38/38 [==============================] - 0s 4ms/step - loss: 0.4856 - accuracy: 0.7690\n",
            "Epoch 57/100\n",
            "38/38 [==============================] - 0s 4ms/step - loss: 0.4851 - accuracy: 0.7698\n",
            "Epoch 58/100\n",
            "38/38 [==============================] - 0s 3ms/step - loss: 0.4848 - accuracy: 0.7681\n",
            "Epoch 59/100\n",
            "38/38 [==============================] - 0s 4ms/step - loss: 0.4847 - accuracy: 0.7698\n",
            "Epoch 60/100\n",
            "38/38 [==============================] - 0s 3ms/step - loss: 0.4839 - accuracy: 0.7740\n",
            "Epoch 61/100\n",
            "38/38 [==============================] - 0s 3ms/step - loss: 0.4839 - accuracy: 0.7731\n",
            "Epoch 62/100\n",
            "38/38 [==============================] - 0s 3ms/step - loss: 0.4836 - accuracy: 0.7723\n",
            "Epoch 63/100\n",
            "38/38 [==============================] - 0s 3ms/step - loss: 0.4831 - accuracy: 0.7715\n",
            "Epoch 64/100\n",
            "38/38 [==============================] - 0s 3ms/step - loss: 0.4827 - accuracy: 0.7706\n",
            "Epoch 65/100\n",
            "38/38 [==============================] - 0s 3ms/step - loss: 0.4823 - accuracy: 0.7690\n",
            "Epoch 66/100\n",
            "38/38 [==============================] - 0s 4ms/step - loss: 0.4818 - accuracy: 0.7715\n",
            "Epoch 67/100\n",
            "38/38 [==============================] - 0s 4ms/step - loss: 0.4808 - accuracy: 0.7690\n",
            "Epoch 68/100\n",
            "38/38 [==============================] - 0s 3ms/step - loss: 0.4802 - accuracy: 0.7698\n",
            "Epoch 69/100\n",
            "38/38 [==============================] - 0s 3ms/step - loss: 0.4797 - accuracy: 0.7673\n",
            "Epoch 70/100\n",
            "38/38 [==============================] - 0s 3ms/step - loss: 0.4788 - accuracy: 0.7715\n",
            "Epoch 71/100\n",
            "38/38 [==============================] - 0s 3ms/step - loss: 0.4788 - accuracy: 0.7723\n",
            "Epoch 72/100\n",
            "38/38 [==============================] - 0s 3ms/step - loss: 0.4782 - accuracy: 0.7723\n",
            "Epoch 73/100\n",
            "38/38 [==============================] - 0s 3ms/step - loss: 0.4774 - accuracy: 0.7731\n",
            "Epoch 74/100\n",
            "38/38 [==============================] - 0s 4ms/step - loss: 0.4769 - accuracy: 0.7715\n",
            "Epoch 75/100\n",
            "38/38 [==============================] - 0s 3ms/step - loss: 0.4766 - accuracy: 0.7715\n",
            "Epoch 76/100\n",
            "38/38 [==============================] - 0s 4ms/step - loss: 0.4760 - accuracy: 0.7706\n",
            "Epoch 77/100\n",
            "38/38 [==============================] - 0s 3ms/step - loss: 0.4752 - accuracy: 0.7723\n",
            "Epoch 78/100\n",
            "38/38 [==============================] - 0s 4ms/step - loss: 0.4746 - accuracy: 0.7690\n",
            "Epoch 79/100\n",
            "38/38 [==============================] - 0s 4ms/step - loss: 0.4743 - accuracy: 0.7673\n",
            "Epoch 80/100\n",
            "38/38 [==============================] - 0s 3ms/step - loss: 0.4742 - accuracy: 0.7690\n",
            "Epoch 81/100\n",
            "38/38 [==============================] - 0s 3ms/step - loss: 0.4736 - accuracy: 0.7698\n",
            "Epoch 82/100\n",
            "38/38 [==============================] - 0s 3ms/step - loss: 0.4731 - accuracy: 0.7723\n",
            "Epoch 83/100\n",
            "38/38 [==============================] - 0s 3ms/step - loss: 0.4728 - accuracy: 0.7723\n",
            "Epoch 84/100\n",
            "38/38 [==============================] - 0s 3ms/step - loss: 0.4720 - accuracy: 0.7740\n",
            "Epoch 85/100\n",
            "38/38 [==============================] - 0s 3ms/step - loss: 0.4719 - accuracy: 0.7731\n",
            "Epoch 86/100\n",
            "38/38 [==============================] - 0s 3ms/step - loss: 0.4714 - accuracy: 0.7698\n",
            "Epoch 87/100\n",
            "38/38 [==============================] - 0s 3ms/step - loss: 0.4705 - accuracy: 0.7715\n",
            "Epoch 88/100\n",
            "38/38 [==============================] - 0s 3ms/step - loss: 0.4705 - accuracy: 0.7706\n",
            "Epoch 89/100\n",
            "38/38 [==============================] - 0s 3ms/step - loss: 0.4702 - accuracy: 0.7715\n",
            "Epoch 90/100\n",
            "38/38 [==============================] - 0s 3ms/step - loss: 0.4700 - accuracy: 0.7706\n",
            "Epoch 91/100\n",
            "38/38 [==============================] - 0s 3ms/step - loss: 0.4697 - accuracy: 0.7723\n",
            "Epoch 92/100\n",
            "38/38 [==============================] - 0s 3ms/step - loss: 0.4689 - accuracy: 0.7740\n",
            "Epoch 93/100\n",
            "38/38 [==============================] - 0s 4ms/step - loss: 0.4686 - accuracy: 0.7740\n",
            "Epoch 94/100\n",
            "38/38 [==============================] - 0s 3ms/step - loss: 0.4681 - accuracy: 0.7715\n",
            "Epoch 95/100\n",
            "38/38 [==============================] - 0s 3ms/step - loss: 0.4681 - accuracy: 0.7756\n",
            "Epoch 96/100\n",
            "38/38 [==============================] - 0s 3ms/step - loss: 0.4682 - accuracy: 0.7765\n",
            "Epoch 97/100\n",
            "38/38 [==============================] - 0s 3ms/step - loss: 0.4680 - accuracy: 0.7731\n",
            "Epoch 98/100\n",
            "38/38 [==============================] - 0s 3ms/step - loss: 0.4673 - accuracy: 0.7748\n",
            "Epoch 99/100\n",
            "38/38 [==============================] - 0s 3ms/step - loss: 0.4674 - accuracy: 0.7740\n",
            "Epoch 100/100\n",
            "38/38 [==============================] - 0s 3ms/step - loss: 0.4675 - accuracy: 0.7748\n"
          ]
        },
        {
          "data": {
            "text/plain": [
              "<keras.src.callbacks.History at 0x194fb502bf0>"
            ]
          },
          "execution_count": 43,
          "metadata": {},
          "output_type": "execute_result"
        }
      ],
      "source": [
        "# Fit the model using 50 epochs and the training data\n",
        "nn_model.fit(X_train_scaled,y_train,epochs=100)"
      ]
    },
    {
      "cell_type": "markdown",
      "metadata": {
        "id": "RfHMPZVI6q61"
      },
      "source": [
        "### Step 3: Evaluate the model using the test data to determine the model’s loss and accuracy.\n"
      ]
    },
    {
      "cell_type": "code",
      "execution_count": 44,
      "metadata": {
        "colab": {
          "base_uri": "https://localhost:8080/"
        },
        "id": "5hfVADKo6q61",
        "outputId": "7df473ad-3301-4b49-e5c3-16e1687cc1cf"
      },
      "outputs": [
        {
          "name": "stdout",
          "output_type": "stream",
          "text": [
            "13/13 - 0s - loss: 0.5171 - accuracy: 0.7475 - 497ms/epoch - 38ms/step\n",
            "Loss: 0.5170942544937134, Accuracy: 0.7475000023841858\n"
          ]
        }
      ],
      "source": [
        "# Evaluate the model loss and accuracy metrics using the evaluate method and the test data\n",
        "model_loss, model_accuracy = nn_model.evaluate(X_test_scaled, y_test, verbose=2)\n",
        "\n",
        "# Display the model loss and accuracy results\n",
        "print(f\"Loss: {model_loss}, Accuracy: {model_accuracy}\")"
      ]
    },
    {
      "cell_type": "markdown",
      "metadata": {
        "id": "jpAv0rXA6q61"
      },
      "source": [
        "### Step 4: Save and export your model to a keras file, and name the file `student_loans.keras`.\n"
      ]
    },
    {
      "cell_type": "code",
      "execution_count": 45,
      "metadata": {
        "id": "q0MetN0W6q61"
      },
      "outputs": [],
      "source": [
        "# Set the model's file path\n",
        "file = Path(\"Resources/student_loans.keras\")\n",
        "\n",
        "# Export your model to a keras file\n",
        "nn_model.save(file)"
      ]
    },
    {
      "cell_type": "markdown",
      "metadata": {
        "id": "R1opCDdN6q61"
      },
      "source": [
        "---\n",
        "## Predict Loan Repayment Success by Using your Neural Network Model"
      ]
    },
    {
      "cell_type": "markdown",
      "metadata": {
        "id": "TfIfpeiy6q61"
      },
      "source": [
        "### Step 1: Reload your saved model."
      ]
    },
    {
      "cell_type": "code",
      "execution_count": 46,
      "metadata": {
        "id": "OCET2mvW6q61"
      },
      "outputs": [],
      "source": [
        "# Set the model's file path\n",
        "file = Path(\"Resources/student_loans.keras\")\n",
        "\n",
        "# Load the model to a new object\n",
        "nn_imported = tf.keras.models.load_model(file)"
      ]
    },
    {
      "cell_type": "markdown",
      "metadata": {
        "id": "rTPKooGw6q61"
      },
      "source": [
        "### Step 2: Make predictions on the testing data and save the predictions to a DataFrame."
      ]
    },
    {
      "cell_type": "code",
      "execution_count": 47,
      "metadata": {
        "colab": {
          "base_uri": "https://localhost:8080/"
        },
        "id": "Vet7qjgx6q62",
        "outputId": "0925af42-7e12-4978-8396-2a2c1580e1eb"
      },
      "outputs": [
        {
          "name": "stdout",
          "output_type": "stream",
          "text": [
            "13/13 - 0s - 211ms/epoch - 16ms/step\n"
          ]
        },
        {
          "data": {
            "text/plain": [
              "array([[0.4589647 ],\n",
              "       [0.33172616],\n",
              "       [0.9400546 ],\n",
              "       [0.7601219 ],\n",
              "       [0.9832794 ],\n",
              "       [0.8778263 ],\n",
              "       [0.9501675 ],\n",
              "       [0.4063452 ],\n",
              "       [0.58734286],\n",
              "       [0.37629154],\n",
              "       [0.8998243 ],\n",
              "       [0.16018909],\n",
              "       [0.64475447],\n",
              "       [0.95443267],\n",
              "       [0.53488666],\n",
              "       [0.439301  ],\n",
              "       [0.92925155],\n",
              "       [0.42659158],\n",
              "       [0.5210813 ],\n",
              "       [0.5284623 ],\n",
              "       [0.5629069 ],\n",
              "       [0.8305617 ],\n",
              "       [0.1902249 ],\n",
              "       [0.59809315],\n",
              "       [0.30509478],\n",
              "       [0.9622262 ],\n",
              "       [0.81482655],\n",
              "       [0.6325413 ],\n",
              "       [0.16833603],\n",
              "       [0.5284623 ],\n",
              "       [0.46240264],\n",
              "       [0.9813274 ],\n",
              "       [0.18950632],\n",
              "       [0.97831166],\n",
              "       [0.12631117],\n",
              "       [0.7208039 ],\n",
              "       [0.0957122 ],\n",
              "       [0.44657257],\n",
              "       [0.9706484 ],\n",
              "       [0.14084987],\n",
              "       [0.9064793 ],\n",
              "       [0.08256909],\n",
              "       [0.06990956],\n",
              "       [0.9471702 ],\n",
              "       [0.07447968],\n",
              "       [0.8465651 ],\n",
              "       [0.10562221],\n",
              "       [0.3750561 ],\n",
              "       [0.37629154],\n",
              "       [0.8390214 ],\n",
              "       [0.03461876],\n",
              "       [0.07410331],\n",
              "       [0.91823554],\n",
              "       [0.10074013],\n",
              "       [0.13555002],\n",
              "       [0.82030433],\n",
              "       [0.8716361 ],\n",
              "       [0.81474334],\n",
              "       [0.5284623 ],\n",
              "       [0.2774534 ],\n",
              "       [0.8407955 ],\n",
              "       [0.09834082],\n",
              "       [0.20481741],\n",
              "       [0.4248698 ],\n",
              "       [0.04129662],\n",
              "       [0.40533322],\n",
              "       [0.9834807 ],\n",
              "       [0.51784116],\n",
              "       [0.6251398 ],\n",
              "       [0.9764545 ],\n",
              "       [0.12631117],\n",
              "       [0.8815745 ],\n",
              "       [0.61649954],\n",
              "       [0.7194464 ],\n",
              "       [0.08168799],\n",
              "       [0.44081676],\n",
              "       [0.9341408 ],\n",
              "       [0.11130472],\n",
              "       [0.12991692],\n",
              "       [0.8697326 ],\n",
              "       [0.8518054 ],\n",
              "       [0.1784419 ],\n",
              "       [0.1176177 ],\n",
              "       [0.5284623 ],\n",
              "       [0.6879616 ],\n",
              "       [0.13001983],\n",
              "       [0.14690869],\n",
              "       [0.90699834],\n",
              "       [0.3062055 ],\n",
              "       [0.8198002 ],\n",
              "       [0.10122789],\n",
              "       [0.943191  ],\n",
              "       [0.23268142],\n",
              "       [0.95699936],\n",
              "       [0.3198936 ],\n",
              "       [0.5284623 ],\n",
              "       [0.919752  ],\n",
              "       [0.5675073 ],\n",
              "       [0.37629154],\n",
              "       [0.82213587],\n",
              "       [0.66264045],\n",
              "       [0.22664224],\n",
              "       [0.32298654],\n",
              "       [0.17322685],\n",
              "       [0.04690237],\n",
              "       [0.6286553 ],\n",
              "       [0.84164995],\n",
              "       [0.38327357],\n",
              "       [0.85432404],\n",
              "       [0.1719785 ],\n",
              "       [0.9884921 ],\n",
              "       [0.69747657],\n",
              "       [0.8200317 ],\n",
              "       [0.63705623],\n",
              "       [0.37629154],\n",
              "       [0.9845963 ],\n",
              "       [0.20808512],\n",
              "       [0.04679319],\n",
              "       [0.24000654],\n",
              "       [0.12255853],\n",
              "       [0.08060539],\n",
              "       [0.98752826],\n",
              "       [0.9091037 ],\n",
              "       [0.37629154],\n",
              "       [0.22099954],\n",
              "       [0.6300341 ],\n",
              "       [0.6455006 ],\n",
              "       [0.3040728 ],\n",
              "       [0.67090255],\n",
              "       [0.75450927],\n",
              "       [0.25155574],\n",
              "       [0.1841705 ],\n",
              "       [0.9432976 ],\n",
              "       [0.18054089],\n",
              "       [0.8937522 ],\n",
              "       [0.8291145 ],\n",
              "       [0.08501285],\n",
              "       [0.95967853],\n",
              "       [0.24941163],\n",
              "       [0.46221805],\n",
              "       [0.45179725],\n",
              "       [0.58363044],\n",
              "       [0.46366498],\n",
              "       [0.27342564],\n",
              "       [0.82626843],\n",
              "       [0.9130876 ],\n",
              "       [0.4838194 ],\n",
              "       [0.02919624],\n",
              "       [0.7805293 ],\n",
              "       [0.8529521 ],\n",
              "       [0.42900267],\n",
              "       [0.97029734],\n",
              "       [0.37629154],\n",
              "       [0.25861812],\n",
              "       [0.7465074 ],\n",
              "       [0.94770664],\n",
              "       [0.86112165],\n",
              "       [0.9253677 ],\n",
              "       [0.84189236],\n",
              "       [0.64208794],\n",
              "       [0.8489306 ],\n",
              "       [0.56938624],\n",
              "       [0.37629154],\n",
              "       [0.2047666 ],\n",
              "       [0.97129995],\n",
              "       [0.864251  ],\n",
              "       [0.39123756],\n",
              "       [0.12685974],\n",
              "       [0.2784626 ],\n",
              "       [0.83736056],\n",
              "       [0.24386549],\n",
              "       [0.81181514],\n",
              "       [0.1752914 ],\n",
              "       [0.37629154],\n",
              "       [0.943959  ],\n",
              "       [0.27758294],\n",
              "       [0.2909402 ],\n",
              "       [0.1457887 ],\n",
              "       [0.3369473 ],\n",
              "       [0.5284623 ],\n",
              "       [0.7595616 ],\n",
              "       [0.7514516 ],\n",
              "       [0.63586545],\n",
              "       [0.1377408 ],\n",
              "       [0.92847455],\n",
              "       [0.9502238 ],\n",
              "       [0.96133846],\n",
              "       [0.40348107],\n",
              "       [0.37629154],\n",
              "       [0.08039265],\n",
              "       [0.3378982 ],\n",
              "       [0.69520557],\n",
              "       [0.510357  ],\n",
              "       [0.450611  ],\n",
              "       [0.70915806],\n",
              "       [0.2426219 ],\n",
              "       [0.7634758 ],\n",
              "       [0.37629154],\n",
              "       [0.3417791 ],\n",
              "       [0.19941808],\n",
              "       [0.8859468 ],\n",
              "       [0.5137521 ],\n",
              "       [0.7346729 ],\n",
              "       [0.08971134],\n",
              "       [0.9869447 ],\n",
              "       [0.7410172 ],\n",
              "       [0.17374407],\n",
              "       [0.09219411],\n",
              "       [0.9169642 ],\n",
              "       [0.7436688 ],\n",
              "       [0.40354723],\n",
              "       [0.48139676],\n",
              "       [0.32298654],\n",
              "       [0.93274444],\n",
              "       [0.17732267],\n",
              "       [0.16033028],\n",
              "       [0.08924369],\n",
              "       [0.11766178],\n",
              "       [0.8860367 ],\n",
              "       [0.54451716],\n",
              "       [0.55060476],\n",
              "       [0.26368237],\n",
              "       [0.37629154],\n",
              "       [0.28591496],\n",
              "       [0.89002055],\n",
              "       [0.68892926],\n",
              "       [0.5284623 ],\n",
              "       [0.6408356 ],\n",
              "       [0.98723376],\n",
              "       [0.5284623 ],\n",
              "       [0.37629154],\n",
              "       [0.25014952],\n",
              "       [0.8921023 ],\n",
              "       [0.9365925 ],\n",
              "       [0.43876323],\n",
              "       [0.2115875 ],\n",
              "       [0.9518096 ],\n",
              "       [0.09333904],\n",
              "       [0.22473353],\n",
              "       [0.47610673],\n",
              "       [0.9181818 ],\n",
              "       [0.94377816],\n",
              "       [0.72099143],\n",
              "       [0.6574248 ],\n",
              "       [0.5939792 ],\n",
              "       [0.97760445],\n",
              "       [0.6142139 ],\n",
              "       [0.21094699],\n",
              "       [0.06007785],\n",
              "       [0.5284623 ],\n",
              "       [0.07460541],\n",
              "       [0.12997773],\n",
              "       [0.9568845 ],\n",
              "       [0.7357471 ],\n",
              "       [0.9448924 ],\n",
              "       [0.36109582],\n",
              "       [0.06738217],\n",
              "       [0.37629154],\n",
              "       [0.22447395],\n",
              "       [0.65078706],\n",
              "       [0.7188219 ],\n",
              "       [0.25778762],\n",
              "       [0.69116414],\n",
              "       [0.2529719 ],\n",
              "       [0.2409878 ],\n",
              "       [0.7805293 ],\n",
              "       [0.824218  ],\n",
              "       [0.16098003],\n",
              "       [0.1300758 ],\n",
              "       [0.9264386 ],\n",
              "       [0.14033121],\n",
              "       [0.7611056 ],\n",
              "       [0.23200694],\n",
              "       [0.9566227 ],\n",
              "       [0.07104562],\n",
              "       [0.6112047 ],\n",
              "       [0.37629154],\n",
              "       [0.81181514],\n",
              "       [0.57972026],\n",
              "       [0.41103882],\n",
              "       [0.9881645 ],\n",
              "       [0.47185957],\n",
              "       [0.70718795],\n",
              "       [0.05815627],\n",
              "       [0.138814  ],\n",
              "       [0.7373509 ],\n",
              "       [0.5284623 ],\n",
              "       [0.080116  ],\n",
              "       [0.05699877],\n",
              "       [0.7624343 ],\n",
              "       [0.5284623 ],\n",
              "       [0.92925155],\n",
              "       [0.7451538 ],\n",
              "       [0.58992404],\n",
              "       [0.9285062 ],\n",
              "       [0.9436732 ],\n",
              "       [0.13313113],\n",
              "       [0.95697904],\n",
              "       [0.11597   ],\n",
              "       [0.11019638],\n",
              "       [0.5273378 ],\n",
              "       [0.86446637],\n",
              "       [0.11375513],\n",
              "       [0.80282277],\n",
              "       [0.31365645],\n",
              "       [0.67849195],\n",
              "       [0.05029707],\n",
              "       [0.9458539 ],\n",
              "       [0.6131767 ],\n",
              "       [0.0382148 ],\n",
              "       [0.09757466],\n",
              "       [0.70415646],\n",
              "       [0.37629154],\n",
              "       [0.90181315],\n",
              "       [0.69624704],\n",
              "       [0.78366715],\n",
              "       [0.36828607],\n",
              "       [0.2832723 ],\n",
              "       [0.9269523 ],\n",
              "       [0.9518096 ],\n",
              "       [0.52685845],\n",
              "       [0.6351278 ],\n",
              "       [0.99064827],\n",
              "       [0.1432219 ],\n",
              "       [0.2426219 ],\n",
              "       [0.5076138 ],\n",
              "       [0.08722313],\n",
              "       [0.98626906],\n",
              "       [0.8414003 ],\n",
              "       [0.5284623 ],\n",
              "       [0.8297413 ],\n",
              "       [0.23491186],\n",
              "       [0.29222238],\n",
              "       [0.45931718],\n",
              "       [0.5869897 ],\n",
              "       [0.17620036],\n",
              "       [0.9186201 ],\n",
              "       [0.93274444],\n",
              "       [0.16067658],\n",
              "       [0.66282105],\n",
              "       [0.24396132],\n",
              "       [0.3305835 ],\n",
              "       [0.5014038 ],\n",
              "       [0.6270702 ],\n",
              "       [0.42900944],\n",
              "       [0.98878956],\n",
              "       [0.8379634 ],\n",
              "       [0.3265261 ],\n",
              "       [0.17682686],\n",
              "       [0.47311366],\n",
              "       [0.48139673],\n",
              "       [0.9708319 ],\n",
              "       [0.5883398 ],\n",
              "       [0.7869705 ],\n",
              "       [0.6259643 ],\n",
              "       [0.37629154],\n",
              "       [0.99133253],\n",
              "       [0.95443267],\n",
              "       [0.08501285],\n",
              "       [0.01529678],\n",
              "       [0.18831228],\n",
              "       [0.88576454],\n",
              "       [0.37629154],\n",
              "       [0.9716812 ],\n",
              "       [0.5284623 ],\n",
              "       [0.08643912],\n",
              "       [0.24628922],\n",
              "       [0.38619107],\n",
              "       [0.79267573],\n",
              "       [0.2115875 ],\n",
              "       [0.60269755],\n",
              "       [0.7750381 ],\n",
              "       [0.41146737],\n",
              "       [0.34840137],\n",
              "       [0.37629154],\n",
              "       [0.6232116 ],\n",
              "       [0.9935577 ],\n",
              "       [0.9856882 ],\n",
              "       [0.16033028],\n",
              "       [0.8687374 ],\n",
              "       [0.86141735],\n",
              "       [0.7151465 ],\n",
              "       [0.9428197 ],\n",
              "       [0.84740096],\n",
              "       [0.29801273],\n",
              "       [0.9336733 ],\n",
              "       [0.0466577 ],\n",
              "       [0.69485825],\n",
              "       [0.75346875],\n",
              "       [0.56642973],\n",
              "       [0.37019697],\n",
              "       [0.4471043 ],\n",
              "       [0.2752365 ],\n",
              "       [0.851376  ],\n",
              "       [0.10752853],\n",
              "       [0.7584407 ],\n",
              "       [0.3062055 ],\n",
              "       [0.8921023 ],\n",
              "       [0.37629154],\n",
              "       [0.7012389 ]], dtype=float32)"
            ]
          },
          "execution_count": 47,
          "metadata": {},
          "output_type": "execute_result"
        }
      ],
      "source": [
        "# Make predictions with the test data\n",
        "predictions = nn_model.predict(X_test_scaled,verbose=2)\n",
        "\n",
        "# Display a sample of the predictions\n",
        "predictions"
      ]
    },
    {
      "cell_type": "code",
      "execution_count": 48,
      "metadata": {
        "colab": {
          "base_uri": "https://localhost:8080/",
          "height": 424
        },
        "id": "87o8exFPhjfl",
        "outputId": "da5339c5-cea7-43e4-ec22-e168ea16dfa2"
      },
      "outputs": [
        {
          "data": {
            "text/html": [
              "<div>\n",
              "<style scoped>\n",
              "    .dataframe tbody tr th:only-of-type {\n",
              "        vertical-align: middle;\n",
              "    }\n",
              "\n",
              "    .dataframe tbody tr th {\n",
              "        vertical-align: top;\n",
              "    }\n",
              "\n",
              "    .dataframe thead th {\n",
              "        text-align: right;\n",
              "    }\n",
              "</style>\n",
              "<table border=\"1\" class=\"dataframe\">\n",
              "  <thead>\n",
              "    <tr style=\"text-align: right;\">\n",
              "      <th></th>\n",
              "      <th>predictions</th>\n",
              "    </tr>\n",
              "  </thead>\n",
              "  <tbody>\n",
              "    <tr>\n",
              "      <th>0</th>\n",
              "      <td>0.0</td>\n",
              "    </tr>\n",
              "    <tr>\n",
              "      <th>1</th>\n",
              "      <td>0.0</td>\n",
              "    </tr>\n",
              "    <tr>\n",
              "      <th>2</th>\n",
              "      <td>1.0</td>\n",
              "    </tr>\n",
              "    <tr>\n",
              "      <th>3</th>\n",
              "      <td>1.0</td>\n",
              "    </tr>\n",
              "    <tr>\n",
              "      <th>4</th>\n",
              "      <td>1.0</td>\n",
              "    </tr>\n",
              "    <tr>\n",
              "      <th>...</th>\n",
              "      <td>...</td>\n",
              "    </tr>\n",
              "    <tr>\n",
              "      <th>395</th>\n",
              "      <td>1.0</td>\n",
              "    </tr>\n",
              "    <tr>\n",
              "      <th>396</th>\n",
              "      <td>0.0</td>\n",
              "    </tr>\n",
              "    <tr>\n",
              "      <th>397</th>\n",
              "      <td>1.0</td>\n",
              "    </tr>\n",
              "    <tr>\n",
              "      <th>398</th>\n",
              "      <td>0.0</td>\n",
              "    </tr>\n",
              "    <tr>\n",
              "      <th>399</th>\n",
              "      <td>1.0</td>\n",
              "    </tr>\n",
              "  </tbody>\n",
              "</table>\n",
              "<p>400 rows × 1 columns</p>\n",
              "</div>"
            ],
            "text/plain": [
              "     predictions\n",
              "0            0.0\n",
              "1            0.0\n",
              "2            1.0\n",
              "3            1.0\n",
              "4            1.0\n",
              "..           ...\n",
              "395          1.0\n",
              "396          0.0\n",
              "397          1.0\n",
              "398          0.0\n",
              "399          1.0\n",
              "\n",
              "[400 rows x 1 columns]"
            ]
          },
          "execution_count": 48,
          "metadata": {},
          "output_type": "execute_result"
        }
      ],
      "source": [
        "# Save the predictions to a DataFrame and round the predictions to binary results\n",
        "predictions_df = pd.DataFrame(columns=[\"predictions\"],data=predictions)\n",
        "predictions_df['predictions'] = round(predictions_df[\"predictions\"],0)\n",
        "predictions_df"
      ]
    },
    {
      "cell_type": "markdown",
      "metadata": {
        "id": "oxxLwycg6q62"
      },
      "source": [
        "### Step 4: Display a classification report with the y test data and predictions"
      ]
    },
    {
      "cell_type": "code",
      "execution_count": 49,
      "metadata": {
        "colab": {
          "base_uri": "https://localhost:8080/"
        },
        "id": "UTxYZibW6q67",
        "outputId": "f341b396-9b4c-478c-dba8-f6d904ba10e3"
      },
      "outputs": [
        {
          "name": "stdout",
          "output_type": "stream",
          "text": [
            "              precision    recall  f1-score   support\n",
            "\n",
            "           0       0.73      0.73      0.73       188\n",
            "           1       0.76      0.76      0.76       212\n",
            "\n",
            "    accuracy                           0.75       400\n",
            "   macro avg       0.75      0.75      0.75       400\n",
            "weighted avg       0.75      0.75      0.75       400\n",
            "\n"
          ]
        }
      ],
      "source": [
        "# Print the classification report with the y test data and predictions\n",
        "print(classification_report(y_test,predictions_df['predictions']))"
      ]
    },
    {
      "cell_type": "markdown",
      "metadata": {
        "id": "8Aaof1tBtcp6"
      },
      "source": [
        "---\n",
        "## Discuss creating a recommendation system for student loans"
      ]
    },
    {
      "cell_type": "markdown",
      "metadata": {
        "id": "_CC8cNpNtcp6"
      },
      "source": [
        "Briefly answer the following questions in the space provided:\n",
        "\n",
        "1. Describe the data that you would need to collect to build a recommendation system to recommend student loan options for students. Explain why this data would be relevant and appropriate.\n",
        "\n",
        "2. Based on the data you chose to use in this recommendation system, would your model be using collaborative filtering, content-based filtering, or context-based filtering? Justify why the data you selected would be suitable for your choice of filtering method.\n",
        "\n",
        "3. Describe two real-world challenges that you would take into consideration while building a recommendation system for student loans. Explain why these challenges would be of concern for a student loan recommendation system."
      ]
    },
    {
      "cell_type": "markdown",
      "metadata": {
        "id": "5KqIT8kYtcp6"
      },
      "source": [
        "**1. Describe the data that you would need to collect to build a recommendation system to recommend student loan options for students. Explain why this data would be relevant and appropriate.**\n",
        "\n",
        "\n",
        "**2. Based on the data you chose to use in this recommendation system, would your model be using collaborative filtering, content-based filtering, or context-based filtering? Justify why the data you selected would be suitable for your choice of filtering method.**\n",
        "\n",
        "\n",
        "**3. Describe two real-world challenges that you would take into consideration while building a recommendation system for student loans. Explain why these challenges would be of concern for a student loan recommendation system.**\n",
        "\n"
      ]
    }
  ],
  "metadata": {
    "colab": {
      "provenance": []
    },
    "kernelspec": {
      "display_name": "Python 3 (ipykernel)",
      "language": "python",
      "name": "python3"
    },
    "language_info": {
      "codemirror_mode": {
        "name": "ipython",
        "version": 3
      },
      "file_extension": ".py",
      "mimetype": "text/x-python",
      "name": "python",
      "nbconvert_exporter": "python",
      "pygments_lexer": "ipython3",
      "version": "3.10.14"
    }
  },
  "nbformat": 4,
  "nbformat_minor": 0
}
